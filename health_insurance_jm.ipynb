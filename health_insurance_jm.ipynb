{
 "cells": [
  {
   "cell_type": "markdown",
   "id": "0173f455-f0b1-4ee3-a97a-18459c2647e3",
   "metadata": {},
   "source": [
    "# Health Insurance Prediction Dataset\n",
    "Exploring whether someone will apply for a recommended policy when they are on an insurance website.\n",
    "\n",
    "Datset and competition are from [Kaggle](https://www.kaggle.com/datasets/owaiskhan9654/health-insurance-lead-prediction-raw-data)."
   ]
  },
  {
   "cell_type": "code",
   "execution_count": 1,
   "id": "84fd7e40-073e-413d-b1be-80676c200f67",
   "metadata": {},
   "outputs": [],
   "source": [
    "# Importing Libraries\n",
    "import numpy as np\n",
    "import pandas as pd\n",
    "import matplotlib.pyplot as plt\n",
    "import seaborn as sns\n",
    "import random\n",
    "\n",
    "# Importing data\n",
    "df = pd.read_csv(\"Health Insurance Lead Prediction Raw Data.csv\")"
   ]
  },
  {
   "cell_type": "markdown",
   "id": "a7994fe5-9dfa-4a27-85f6-46654d6e8d89",
   "metadata": {},
   "source": [
    "# Preprocessing and Data Visualization"
   ]
  },
  {
   "cell_type": "code",
   "execution_count": 2,
   "id": "1f88cbec-a562-4a75-a22a-f953f5e8430c",
   "metadata": {},
   "outputs": [
    {
     "name": "stdout",
     "output_type": "stream",
     "text": [
      "<class 'pandas.core.frame.DataFrame'>\n",
      "RangeIndex: 50882 entries, 0 to 50881\n",
      "Data columns (total 14 columns):\n",
      " #   Column                   Non-Null Count  Dtype  \n",
      "---  ------                   --------------  -----  \n",
      " 0   ID                       50882 non-null  int64  \n",
      " 1   City_Code                50882 non-null  object \n",
      " 2   Region_Code              50882 non-null  int64  \n",
      " 3   Accomodation_Type        50882 non-null  object \n",
      " 4   Reco_Insurance_Type      50882 non-null  object \n",
      " 5   Upper_Age                50882 non-null  int64  \n",
      " 6   Lower_Age                50882 non-null  int64  \n",
      " 7   Is_Spouse                50882 non-null  object \n",
      " 8   Health Indicator         39191 non-null  object \n",
      " 9   Holding_Policy_Duration  30631 non-null  object \n",
      " 10  Holding_Policy_Type      30631 non-null  float64\n",
      " 11  Reco_Policy_Cat          50882 non-null  int64  \n",
      " 12  Reco_Policy_Premium      50882 non-null  float64\n",
      " 13  Response                 50882 non-null  int64  \n",
      "dtypes: float64(2), int64(6), object(6)\n",
      "memory usage: 5.4+ MB\n"
     ]
    }
   ],
   "source": [
    "df.info()"
   ]
  },
  {
   "cell_type": "markdown",
   "id": "98e53306-698e-4273-8d77-df5b0f47a738",
   "metadata": {},
   "source": [
    "Following variable have null values:\n",
    "* Health Indicator\n",
    "* Holding_Policy_Duration\n",
    "* Holding_Policy_Type"
   ]
  },
  {
   "cell_type": "code",
   "execution_count": 3,
   "id": "0c525ec5-f992-4b69-ae6f-3fe281ddfbbd",
   "metadata": {},
   "outputs": [
    {
     "data": {
      "text/html": [
       "<div>\n",
       "<style scoped>\n",
       "    .dataframe tbody tr th:only-of-type {\n",
       "        vertical-align: middle;\n",
       "    }\n",
       "\n",
       "    .dataframe tbody tr th {\n",
       "        vertical-align: top;\n",
       "    }\n",
       "\n",
       "    .dataframe thead th {\n",
       "        text-align: right;\n",
       "    }\n",
       "</style>\n",
       "<table border=\"1\" class=\"dataframe\">\n",
       "  <thead>\n",
       "    <tr style=\"text-align: right;\">\n",
       "      <th></th>\n",
       "      <th>ID</th>\n",
       "      <th>City_Code</th>\n",
       "      <th>Region_Code</th>\n",
       "      <th>Accomodation_Type</th>\n",
       "      <th>Reco_Insurance_Type</th>\n",
       "      <th>Upper_Age</th>\n",
       "      <th>Lower_Age</th>\n",
       "      <th>Is_Spouse</th>\n",
       "      <th>Health Indicator</th>\n",
       "      <th>Holding_Policy_Duration</th>\n",
       "      <th>Holding_Policy_Type</th>\n",
       "      <th>Reco_Policy_Cat</th>\n",
       "      <th>Reco_Policy_Premium</th>\n",
       "      <th>Response</th>\n",
       "    </tr>\n",
       "  </thead>\n",
       "  <tbody>\n",
       "    <tr>\n",
       "      <th>0</th>\n",
       "      <td>1</td>\n",
       "      <td>C3</td>\n",
       "      <td>3213</td>\n",
       "      <td>Rented</td>\n",
       "      <td>Individual</td>\n",
       "      <td>36</td>\n",
       "      <td>36</td>\n",
       "      <td>No</td>\n",
       "      <td>X1</td>\n",
       "      <td>14+</td>\n",
       "      <td>3.0</td>\n",
       "      <td>22</td>\n",
       "      <td>11628.0</td>\n",
       "      <td>0</td>\n",
       "    </tr>\n",
       "    <tr>\n",
       "      <th>1</th>\n",
       "      <td>2</td>\n",
       "      <td>C5</td>\n",
       "      <td>1117</td>\n",
       "      <td>Owned</td>\n",
       "      <td>Joint</td>\n",
       "      <td>75</td>\n",
       "      <td>22</td>\n",
       "      <td>No</td>\n",
       "      <td>X2</td>\n",
       "      <td>NaN</td>\n",
       "      <td>NaN</td>\n",
       "      <td>22</td>\n",
       "      <td>30510.0</td>\n",
       "      <td>0</td>\n",
       "    </tr>\n",
       "    <tr>\n",
       "      <th>2</th>\n",
       "      <td>3</td>\n",
       "      <td>C5</td>\n",
       "      <td>3732</td>\n",
       "      <td>Owned</td>\n",
       "      <td>Individual</td>\n",
       "      <td>32</td>\n",
       "      <td>32</td>\n",
       "      <td>No</td>\n",
       "      <td>NaN</td>\n",
       "      <td>1.0</td>\n",
       "      <td>1.0</td>\n",
       "      <td>19</td>\n",
       "      <td>7450.0</td>\n",
       "      <td>1</td>\n",
       "    </tr>\n",
       "    <tr>\n",
       "      <th>3</th>\n",
       "      <td>4</td>\n",
       "      <td>C24</td>\n",
       "      <td>4378</td>\n",
       "      <td>Owned</td>\n",
       "      <td>Joint</td>\n",
       "      <td>52</td>\n",
       "      <td>48</td>\n",
       "      <td>No</td>\n",
       "      <td>X1</td>\n",
       "      <td>14+</td>\n",
       "      <td>3.0</td>\n",
       "      <td>19</td>\n",
       "      <td>17780.0</td>\n",
       "      <td>0</td>\n",
       "    </tr>\n",
       "    <tr>\n",
       "      <th>4</th>\n",
       "      <td>5</td>\n",
       "      <td>C8</td>\n",
       "      <td>2190</td>\n",
       "      <td>Rented</td>\n",
       "      <td>Individual</td>\n",
       "      <td>44</td>\n",
       "      <td>44</td>\n",
       "      <td>No</td>\n",
       "      <td>X2</td>\n",
       "      <td>3.0</td>\n",
       "      <td>1.0</td>\n",
       "      <td>16</td>\n",
       "      <td>10404.0</td>\n",
       "      <td>0</td>\n",
       "    </tr>\n",
       "  </tbody>\n",
       "</table>\n",
       "</div>"
      ],
      "text/plain": [
       "   ID City_Code  Region_Code Accomodation_Type Reco_Insurance_Type  Upper_Age  \\\n",
       "0   1        C3         3213            Rented          Individual         36   \n",
       "1   2        C5         1117             Owned               Joint         75   \n",
       "2   3        C5         3732             Owned          Individual         32   \n",
       "3   4       C24         4378             Owned               Joint         52   \n",
       "4   5        C8         2190            Rented          Individual         44   \n",
       "\n",
       "   Lower_Age Is_Spouse Health Indicator Holding_Policy_Duration  \\\n",
       "0         36        No               X1                     14+   \n",
       "1         22        No               X2                     NaN   \n",
       "2         32        No              NaN                     1.0   \n",
       "3         48        No               X1                     14+   \n",
       "4         44        No               X2                     3.0   \n",
       "\n",
       "   Holding_Policy_Type  Reco_Policy_Cat  Reco_Policy_Premium  Response  \n",
       "0                  3.0               22              11628.0         0  \n",
       "1                  NaN               22              30510.0         0  \n",
       "2                  1.0               19               7450.0         1  \n",
       "3                  3.0               19              17780.0         0  \n",
       "4                  1.0               16              10404.0         0  "
      ]
     },
     "execution_count": 3,
     "metadata": {},
     "output_type": "execute_result"
    }
   ],
   "source": [
    "df.head()"
   ]
  },
  {
   "cell_type": "code",
   "execution_count": 4,
   "id": "92a1a005-29e0-453f-94c3-5c5248b34540",
   "metadata": {},
   "outputs": [
    {
     "data": {
      "text/html": [
       "<div>\n",
       "<style scoped>\n",
       "    .dataframe tbody tr th:only-of-type {\n",
       "        vertical-align: middle;\n",
       "    }\n",
       "\n",
       "    .dataframe tbody tr th {\n",
       "        vertical-align: top;\n",
       "    }\n",
       "\n",
       "    .dataframe thead th {\n",
       "        text-align: right;\n",
       "    }\n",
       "</style>\n",
       "<table border=\"1\" class=\"dataframe\">\n",
       "  <thead>\n",
       "    <tr style=\"text-align: right;\">\n",
       "      <th></th>\n",
       "      <th>ID</th>\n",
       "      <th>Region_Code</th>\n",
       "      <th>Upper_Age</th>\n",
       "      <th>Lower_Age</th>\n",
       "      <th>Holding_Policy_Type</th>\n",
       "      <th>Reco_Policy_Cat</th>\n",
       "      <th>Reco_Policy_Premium</th>\n",
       "      <th>Response</th>\n",
       "    </tr>\n",
       "  </thead>\n",
       "  <tbody>\n",
       "    <tr>\n",
       "      <th>count</th>\n",
       "      <td>50882.000000</td>\n",
       "      <td>50882.000000</td>\n",
       "      <td>50882.000000</td>\n",
       "      <td>50882.000000</td>\n",
       "      <td>30631.000000</td>\n",
       "      <td>50882.000000</td>\n",
       "      <td>50882.000000</td>\n",
       "      <td>50882.000000</td>\n",
       "    </tr>\n",
       "    <tr>\n",
       "      <th>mean</th>\n",
       "      <td>25441.500000</td>\n",
       "      <td>1732.788707</td>\n",
       "      <td>44.856275</td>\n",
       "      <td>42.738866</td>\n",
       "      <td>2.439228</td>\n",
       "      <td>15.115188</td>\n",
       "      <td>14183.950069</td>\n",
       "      <td>0.239947</td>\n",
       "    </tr>\n",
       "    <tr>\n",
       "      <th>std</th>\n",
       "      <td>14688.512535</td>\n",
       "      <td>1424.081652</td>\n",
       "      <td>17.310271</td>\n",
       "      <td>17.319375</td>\n",
       "      <td>1.025923</td>\n",
       "      <td>6.340663</td>\n",
       "      <td>6590.074873</td>\n",
       "      <td>0.427055</td>\n",
       "    </tr>\n",
       "    <tr>\n",
       "      <th>min</th>\n",
       "      <td>1.000000</td>\n",
       "      <td>1.000000</td>\n",
       "      <td>18.000000</td>\n",
       "      <td>16.000000</td>\n",
       "      <td>1.000000</td>\n",
       "      <td>1.000000</td>\n",
       "      <td>2280.000000</td>\n",
       "      <td>0.000000</td>\n",
       "    </tr>\n",
       "    <tr>\n",
       "      <th>25%</th>\n",
       "      <td>12721.250000</td>\n",
       "      <td>523.000000</td>\n",
       "      <td>28.000000</td>\n",
       "      <td>27.000000</td>\n",
       "      <td>1.000000</td>\n",
       "      <td>12.000000</td>\n",
       "      <td>9248.000000</td>\n",
       "      <td>0.000000</td>\n",
       "    </tr>\n",
       "    <tr>\n",
       "      <th>50%</th>\n",
       "      <td>25441.500000</td>\n",
       "      <td>1391.000000</td>\n",
       "      <td>44.000000</td>\n",
       "      <td>40.000000</td>\n",
       "      <td>3.000000</td>\n",
       "      <td>17.000000</td>\n",
       "      <td>13178.000000</td>\n",
       "      <td>0.000000</td>\n",
       "    </tr>\n",
       "    <tr>\n",
       "      <th>75%</th>\n",
       "      <td>38161.750000</td>\n",
       "      <td>2667.000000</td>\n",
       "      <td>59.000000</td>\n",
       "      <td>57.000000</td>\n",
       "      <td>3.000000</td>\n",
       "      <td>20.000000</td>\n",
       "      <td>18096.000000</td>\n",
       "      <td>0.000000</td>\n",
       "    </tr>\n",
       "    <tr>\n",
       "      <th>max</th>\n",
       "      <td>50882.000000</td>\n",
       "      <td>6194.000000</td>\n",
       "      <td>75.000000</td>\n",
       "      <td>75.000000</td>\n",
       "      <td>4.000000</td>\n",
       "      <td>22.000000</td>\n",
       "      <td>43350.400000</td>\n",
       "      <td>1.000000</td>\n",
       "    </tr>\n",
       "  </tbody>\n",
       "</table>\n",
       "</div>"
      ],
      "text/plain": [
       "                 ID   Region_Code     Upper_Age     Lower_Age  \\\n",
       "count  50882.000000  50882.000000  50882.000000  50882.000000   \n",
       "mean   25441.500000   1732.788707     44.856275     42.738866   \n",
       "std    14688.512535   1424.081652     17.310271     17.319375   \n",
       "min        1.000000      1.000000     18.000000     16.000000   \n",
       "25%    12721.250000    523.000000     28.000000     27.000000   \n",
       "50%    25441.500000   1391.000000     44.000000     40.000000   \n",
       "75%    38161.750000   2667.000000     59.000000     57.000000   \n",
       "max    50882.000000   6194.000000     75.000000     75.000000   \n",
       "\n",
       "       Holding_Policy_Type  Reco_Policy_Cat  Reco_Policy_Premium      Response  \n",
       "count         30631.000000     50882.000000         50882.000000  50882.000000  \n",
       "mean              2.439228        15.115188         14183.950069      0.239947  \n",
       "std               1.025923         6.340663          6590.074873      0.427055  \n",
       "min               1.000000         1.000000          2280.000000      0.000000  \n",
       "25%               1.000000        12.000000          9248.000000      0.000000  \n",
       "50%               3.000000        17.000000         13178.000000      0.000000  \n",
       "75%               3.000000        20.000000         18096.000000      0.000000  \n",
       "max               4.000000        22.000000         43350.400000      1.000000  "
      ]
     },
     "execution_count": 4,
     "metadata": {},
     "output_type": "execute_result"
    }
   ],
   "source": [
    "df.describe()"
   ]
  },
  {
   "cell_type": "code",
   "execution_count": 5,
   "id": "315427a2-202d-4f4d-9aaf-c6f118b90c98",
   "metadata": {
    "tags": []
   },
   "outputs": [
    {
     "name": "stdout",
     "output_type": "stream",
     "text": [
      "1        1\n",
      "33914    1\n",
      "33916    1\n",
      "33917    1\n",
      "33918    1\n",
      "        ..\n",
      "16964    1\n",
      "16965    1\n",
      "16966    1\n",
      "16967    1\n",
      "50882    1\n",
      "Name: ID, Length: 50882, dtype: int64\n",
      "C1     8973\n",
      "C2     7747\n",
      "C3     4889\n",
      "C4     3671\n",
      "C9     2185\n",
      "C6     1950\n",
      "C7     1910\n",
      "C8     1806\n",
      "C10    1611\n",
      "C5     1364\n",
      "C15    1186\n",
      "C17    1159\n",
      "C11    1147\n",
      "C16    1135\n",
      "C13    1005\n",
      "C20     926\n",
      "C19     899\n",
      "C12     868\n",
      "C18     797\n",
      "C14     746\n",
      "C21     679\n",
      "C23     587\n",
      "C24     553\n",
      "C22     516\n",
      "C26     499\n",
      "C29     387\n",
      "C25     366\n",
      "C27     295\n",
      "C33     286\n",
      "C28     285\n",
      "C32     160\n",
      "C34     130\n",
      "C30      58\n",
      "C35      56\n",
      "C36      36\n",
      "C31      15\n",
      "Name: City_Code, dtype: int64\n",
      "1       96\n",
      "5       75\n",
      "4       73\n",
      "6       73\n",
      "2       73\n",
      "        ..\n",
      "6041     1\n",
      "5316     1\n",
      "5606     1\n",
      "5282     1\n",
      "5450     1\n",
      "Name: Region_Code, Length: 5316, dtype: int64\n",
      "Owned     27951\n",
      "Rented    22931\n",
      "Name: Accomodation_Type, dtype: int64\n",
      "Individual    40536\n",
      "Joint         10346\n",
      "Name: Reco_Insurance_Type, dtype: int64\n",
      "75    2982\n",
      "23    1671\n",
      "24    1652\n",
      "25    1644\n",
      "22    1563\n",
      "26    1461\n",
      "27    1246\n",
      "28    1198\n",
      "21    1128\n",
      "29     994\n",
      "30     975\n",
      "32     911\n",
      "31     896\n",
      "52     881\n",
      "55     878\n",
      "48     860\n",
      "43     833\n",
      "54     825\n",
      "42     823\n",
      "33     817\n",
      "56     816\n",
      "44     814\n",
      "46     810\n",
      "53     809\n",
      "35     806\n",
      "58     806\n",
      "34     805\n",
      "51     804\n",
      "50     797\n",
      "57     792\n",
      "45     791\n",
      "41     783\n",
      "47     783\n",
      "49     781\n",
      "61     768\n",
      "59     767\n",
      "60     761\n",
      "20     758\n",
      "65     756\n",
      "66     751\n",
      "38     749\n",
      "63     744\n",
      "37     733\n",
      "36     729\n",
      "40     728\n",
      "62     723\n",
      "64     712\n",
      "39     689\n",
      "70     666\n",
      "67     614\n",
      "69     597\n",
      "71     576\n",
      "68     545\n",
      "19     515\n",
      "72     512\n",
      "73     492\n",
      "74     446\n",
      "18     116\n",
      "Name: Upper_Age, dtype: int64\n",
      "75    2213\n",
      "23    1840\n",
      "25    1783\n",
      "24    1775\n",
      "22    1727\n",
      "26    1571\n",
      "27    1343\n",
      "21    1341\n",
      "28    1310\n",
      "29    1080\n",
      "30    1031\n",
      "20     985\n",
      "32     958\n",
      "31     948\n",
      "33     896\n",
      "55     845\n",
      "35     843\n",
      "34     835\n",
      "52     819\n",
      "48     784\n",
      "43     762\n",
      "51     760\n",
      "58     759\n",
      "56     759\n",
      "50     757\n",
      "53     756\n",
      "42     753\n",
      "19     753\n",
      "46     751\n",
      "57     746\n",
      "37     745\n",
      "47     744\n",
      "44     739\n",
      "41     737\n",
      "45     734\n",
      "65     733\n",
      "62     732\n",
      "38     729\n",
      "36     729\n",
      "49     727\n",
      "54     721\n",
      "60     719\n",
      "40     712\n",
      "66     708\n",
      "61     700\n",
      "59     690\n",
      "39     678\n",
      "63     675\n",
      "64     664\n",
      "70     587\n",
      "69     540\n",
      "71     528\n",
      "67     520\n",
      "68     514\n",
      "73     431\n",
      "72     420\n",
      "74     395\n",
      "18     359\n",
      "16     283\n",
      "17     206\n",
      "Name: Lower_Age, dtype: int64\n",
      "No     42460\n",
      "Yes     8422\n",
      "Name: Is_Spouse, dtype: int64\n",
      "X1    13010\n",
      "X2    10332\n",
      "X3     6762\n",
      "X4     5743\n",
      "X5     1727\n",
      "X6     1280\n",
      "X7      196\n",
      "X8       78\n",
      "X9       63\n",
      "Name: Health Indicator, dtype: int64\n",
      "1.0     4499\n",
      "14+     4335\n",
      "2.0     4260\n",
      "3.0     3586\n",
      "4.0     2771\n",
      "5.0     2362\n",
      "6.0     1894\n",
      "7.0     1645\n",
      "8.0     1316\n",
      "9.0     1114\n",
      "10.0     813\n",
      "11.0     546\n",
      "12.0     513\n",
      "13.0     511\n",
      "14.0     466\n",
      "Name: Holding_Policy_Duration, dtype: int64\n",
      "3.0    13279\n",
      "1.0     8173\n",
      "2.0     5005\n",
      "4.0     4174\n",
      "Name: Holding_Policy_Type, dtype: int64\n",
      "22    6602\n",
      "18    5553\n",
      "21    5027\n",
      "16    4084\n",
      "17    3756\n",
      "19    3708\n",
      "20    3177\n",
      "12    2168\n",
      "1     1967\n",
      "2     1917\n",
      "14    1742\n",
      "13    1684\n",
      "15    1615\n",
      "3     1059\n",
      "4     1015\n",
      "5     1007\n",
      "6      851\n",
      "7      834\n",
      "9      789\n",
      "11     781\n",
      "8      776\n",
      "10     770\n",
      "Name: Reco_Policy_Cat, dtype: int64\n",
      "10080.0    61\n",
      "11880.0    59\n",
      "12060.0    58\n",
      "9296.0     56\n",
      "11520.0    54\n",
      "           ..\n",
      "32886.0     1\n",
      "33804.0     1\n",
      "18072.0     1\n",
      "20566.0     1\n",
      "11374.0     1\n",
      "Name: Reco_Policy_Premium, Length: 6977, dtype: int64\n",
      "0    38673\n",
      "1    12209\n",
      "Name: Response, dtype: int64\n"
     ]
    }
   ],
   "source": [
    "for col in df.columns:\n",
    "    print(df[col].value_counts())"
   ]
  },
  {
   "cell_type": "code",
   "execution_count": 6,
   "id": "53f007a8-9a42-4738-ac2a-8686252ab450",
   "metadata": {},
   "outputs": [
    {
     "data": {
      "text/plain": [
       "True"
      ]
     },
     "execution_count": 6,
     "metadata": {},
     "output_type": "execute_result"
    }
   ],
   "source": [
    "df.index.is_unique # No duplicate entries"
   ]
  },
  {
   "cell_type": "markdown",
   "id": "5baaec33-9f2e-4a3c-86b5-3ee4c46f1d4a",
   "metadata": {},
   "source": [
    "Columns to drop:\n",
    "* ID\n",
    "* Region_Code"
   ]
  },
  {
   "cell_type": "code",
   "execution_count": 7,
   "id": "399a74ca-7754-4631-b394-04d411980b66",
   "metadata": {},
   "outputs": [
    {
     "data": {
      "text/plain": [
       "Index(['City_Code', 'Accomodation_Type', 'Reco_Insurance_Type', 'Upper_Age',\n",
       "       'Lower_Age', 'Is_Spouse', 'Health Indicator', 'Holding_Policy_Duration',\n",
       "       'Holding_Policy_Type', 'Reco_Policy_Cat', 'Reco_Policy_Premium',\n",
       "       'Response'],\n",
       "      dtype='object')"
      ]
     },
     "execution_count": 7,
     "metadata": {},
     "output_type": "execute_result"
    }
   ],
   "source": [
    "df = df.drop([\"ID\", \"Region_Code\"],axis = 1)\n",
    "df.columns"
   ]
  },
  {
   "cell_type": "code",
   "execution_count": 8,
   "id": "af8a6841-ba3d-4419-a337-9ebb822ded61",
   "metadata": {},
   "outputs": [
    {
     "data": {
      "image/png": "[encoded data removed]",
      "text/plain": [
       "<Figure size 432x288 with 1 Axes>"
      ]
     },
     "metadata": {
      "needs_background": "light"
     },
     "output_type": "display_data"
    }
   ],
   "source": [
    "plt.hist([df.Lower_Age.loc[df[\"Response\"] == 0], df.Lower_Age.loc[df[\"Response\"] == 1]], label = [\"No Response\", \"Response\"])\n",
    "plt.title(\"Frequency of Lower Age by Response\")\n",
    "plt.xlabel(\"Lower Age\")\n",
    "plt.ylabel(\"Frequency\")\n",
    "plt.legend(loc = \"upper right\")\n",
    "plt.show()"
   ]
  },
  {
   "cell_type": "code",
   "execution_count": 9,
   "id": "0683a7aa-706b-4c67-b793-177b7d4aeedd",
   "metadata": {},
   "outputs": [
    {
     "data": {
      "image/png": "[encoded data removed]",
      "text/plain": [
       "<Figure size 432x288 with 1 Axes>"
      ]
     },
     "metadata": {
      "needs_background": "light"
     },
     "output_type": "display_data"
    }
   ],
   "source": [
    "plt.hist([df.Upper_Age.loc[df[\"Response\"] == 0], df.Upper_Age.loc[df[\"Response\"] == 1]], label = [\"No Response\", \"Response\"])\n",
    "plt.title(\"Frequency of Upper Age by Response\")\n",
    "plt.xlabel(\"Upper Age (years)\")\n",
    "plt.ylabel(\"Frequency\")\n",
    "plt.legend(loc = \"upper right\")\n",
    "plt.show()"
   ]
  },
  {
   "cell_type": "code",
   "execution_count": 10,
   "id": "55f428ea-87d2-4586-b11a-a8be75ca38f2",
   "metadata": {},
   "outputs": [
    {
     "data": {
      "image/png": "[encoded data removed]",
      "text/plain": [
       "<Figure size 432x288 with 1 Axes>"
      ]
     },
     "metadata": {
      "needs_background": "light"
     },
     "output_type": "display_data"
    }
   ],
   "source": [
    "plt.hist([df.Accomodation_Type.loc[df[\"Response\"] == 0], df.Accomodation_Type.loc[df[\"Response\"] == 1]], label = [\"No Response\", \"Response\"])\n",
    "plt.title(\"Accomodation Type by Response\")\n",
    "plt.xlabel(\"Accomodation Type\")\n",
    "plt.ylabel(\"Frequency\")\n",
    "plt.legend(loc = \"upper left\")\n",
    "plt.show()"
   ]
  },
  {
   "cell_type": "code",
   "execution_count": 11,
   "id": "5a773797-cf34-493e-8d19-c64fa6161a14",
   "metadata": {},
   "outputs": [
    {
     "data": {
      "text/plain": [
       "City_Code                   object\n",
       "Accomodation_Type           object\n",
       "Reco_Insurance_Type         object\n",
       "Upper_Age                    int64\n",
       "Lower_Age                    int64\n",
       "Is_Spouse                   object\n",
       "Health Indicator            object\n",
       "Holding_Policy_Duration    float64\n",
       "Holding_Policy_Type        float64\n",
       "Reco_Policy_Cat              int64\n",
       "Reco_Policy_Premium        float64\n",
       "Response                     int64\n",
       "dtype: object"
      ]
     },
     "execution_count": 11,
     "metadata": {},
     "output_type": "execute_result"
    }
   ],
   "source": [
    "# fixing holding policy duration\n",
    "def cleanInsurancePolicyDuration(row):\n",
    "    policy = row[\"Holding_Policy_Duration\"]\n",
    "    try:\n",
    "        policy = int(policy)\n",
    "    except:\n",
    "        pass\n",
    "    \n",
    "    try:\n",
    "        if not isinstance(policy, int):\n",
    "            policy = float(policy)\n",
    "    except:\n",
    "        pass\n",
    "    \n",
    "    if isinstance(policy,int) or isinstance(policy, float) and not isinstance(policy, bool):\n",
    "        return policy if policy >= 0 else np.nan\n",
    "    if isinstance(policy, bool):\n",
    "        return np.nan\n",
    "    \n",
    "    if policy == \"14+\":\n",
    "        return min(14 + np.random.chisquare(2), row[\"Upper_Age\"])\n",
    "    return np.nan\n",
    "\n",
    "df.Holding_Policy_Duration = df.apply(cleanInsurancePolicyDuration, axis=1)\n",
    "df.dtypes"
   ]
  },
  {
   "cell_type": "markdown",
   "id": "5659143b-5a64-452b-93cd-2843b08a5bdd",
   "metadata": {},
   "source": [
    "Revist this - distribution of 14+ variable seems off"
   ]
  },
  {
   "cell_type": "code",
   "execution_count": 12,
   "id": "cffa32d5-12a7-4e17-b855-f88f955cf4dd",
   "metadata": {},
   "outputs": [
    {
     "data": {
      "image/png": "[encoded data removed]",
      "text/plain": [
       "<Figure size 432x288 with 1 Axes>"
      ]
     },
     "metadata": {
      "needs_background": "light"
     },
     "output_type": "display_data"
    }
   ],
   "source": [
    "plt.hist(df.Holding_Policy_Duration)\n",
    "plt.show()"
   ]
  },
  {
   "cell_type": "code",
   "execution_count": 13,
   "id": "2bf6b6df-2d65-48ed-8733-9c1a7ddf60bc",
   "metadata": {},
   "outputs": [
    {
     "data": {
      "text/plain": [
       "20251"
      ]
     },
     "execution_count": 13,
     "metadata": {},
     "output_type": "execute_result"
    }
   ],
   "source": [
    "df.Holding_Policy_Duration.isna().sum()"
   ]
  },
  {
   "cell_type": "code",
   "execution_count": 14,
   "id": "80de0a9d-c79c-4866-b4ef-a36b489c6092",
   "metadata": {},
   "outputs": [
    {
     "data": {
      "text/plain": [
       "City_Code                  0.0\n",
       "Accomodation_Type          0.0\n",
       "Reco_Insurance_Type        0.0\n",
       "Upper_Age                  0.0\n",
       "Lower_Age                  0.0\n",
       "Is_Spouse                  0.0\n",
       "Health Indicator           0.0\n",
       "Holding_Policy_Duration    0.0\n",
       "Holding_Policy_Type        0.0\n",
       "Reco_Policy_Cat            0.0\n",
       "Reco_Policy_Premium        0.0\n",
       "Response                   0.0\n",
       "dtype: float64"
      ]
     },
     "execution_count": 14,
     "metadata": {},
     "output_type": "execute_result"
    }
   ],
   "source": [
    "df.loc[df.Holding_Policy_Duration > df.Upper_Age].sum()"
   ]
  },
  {
   "cell_type": "code",
   "execution_count": 15,
   "id": "78469902-8ee1-4e2a-aa4b-4641797bde81",
   "metadata": {},
   "outputs": [
    {
     "data": {
      "text/plain": [
       "(23548, 12)"
      ]
     },
     "execution_count": 15,
     "metadata": {},
     "output_type": "execute_result"
    }
   ],
   "source": [
    "df = df.dropna(axis = 0)\n",
    "df.shape"
   ]
  },
  {
   "cell_type": "markdown",
   "id": "02e9b868-913e-4294-8617-7551289bdad8",
   "metadata": {},
   "source": [
    "# Mapping variables"
   ]
  },
  {
   "cell_type": "code",
   "execution_count": 16,
   "id": "486f2dec-f6b2-45f7-8edd-c340631869d8",
   "metadata": {},
   "outputs": [
    {
     "data": {
      "text/plain": [
       "1     4397\n",
       "2     3800\n",
       "3     2249\n",
       "4     1577\n",
       "9      932\n",
       "7      902\n",
       "8      843\n",
       "6      831\n",
       "10     764\n",
       "5      615\n",
       "15     576\n",
       "17     533\n",
       "11     515\n",
       "16     456\n",
       "20     435\n",
       "13     431\n",
       "19     407\n",
       "12     396\n",
       "21     351\n",
       "18     351\n",
       "14     335\n",
       "24     290\n",
       "23     244\n",
       "22     227\n",
       "26     225\n",
       "29     168\n",
       "25     165\n",
       "28     131\n",
       "27     116\n",
       "33     103\n",
       "32      59\n",
       "34      51\n",
       "30      27\n",
       "35      24\n",
       "36      15\n",
       "31       7\n",
       "Name: City_Code_Short, dtype: int64"
      ]
     },
     "execution_count": 16,
     "metadata": {},
     "output_type": "execute_result"
    }
   ],
   "source": [
    "df[\"City_Code_Short\"] = df[\"City_Code\"].str[1:]\n",
    "\n",
    "df[\"Health_Indicator\"] = df[\"Health Indicator\"].str[1:]\n",
    "\n",
    "# def cleanCityCode(row):\n",
    "#     city_code = row[\"City_Code_Short\"]\n",
    "    \n",
    "#     try: city_code = int(city_code)\n",
    "#     except: pass\n",
    "    \n",
    "#     if isinstance(city_code, int) or isinstance(city_code, float):\n",
    "#         return city_code\n",
    "#     return np.nan\n",
    "\n",
    "# df[\"City_Code_Short\"] = df.apply(cleanCityCode, axis=1)\n",
    "\n",
    "df.City_Code_Short = df.City_Code_Short.astype(int)\n",
    "df.Health_Indicator = df.Health_Indicator.astype(float)\n",
    "\n",
    "df.City_Code_Short.value_counts()"
   ]
  },
  {
   "cell_type": "code",
   "execution_count": 17,
   "id": "090f2cc9-dab4-4946-b721-6a7836559525",
   "metadata": {},
   "outputs": [],
   "source": [
    "accomodation_map = {\"Owned\": 0, \"Rented\": 1}\n",
    "df.Accomodation_Type = df.Accomodation_Type.map(accomodation_map)\n",
    "\n",
    "reco_map = {\"Individual\":0, \"Joint\": 1}\n",
    "df.Reco_Insurance_Type = df.Reco_Insurance_Type.map(reco_map)\n",
    "\n",
    "spouse_map = {\"No\": 0, \"Yes\": 1}\n",
    "df.Is_Spouse = df.Is_Spouse.map(spouse_map)"
   ]
  },
  {
   "cell_type": "code",
   "execution_count": 18,
   "id": "a0a08941-51fd-4e93-867a-a3899106945a",
   "metadata": {},
   "outputs": [
    {
     "data": {
      "text/plain": [
       "City_Code                   object\n",
       "Accomodation_Type            int64\n",
       "Reco_Insurance_Type          int64\n",
       "Upper_Age                    int64\n",
       "Lower_Age                    int64\n",
       "Is_Spouse                    int64\n",
       "Health Indicator            object\n",
       "Holding_Policy_Duration    float64\n",
       "Holding_Policy_Type        float64\n",
       "Reco_Policy_Cat              int64\n",
       "Reco_Policy_Premium        float64\n",
       "Response                     int64\n",
       "City_Code_Short              int64\n",
       "Health_Indicator           float64\n",
       "dtype: object"
      ]
     },
     "execution_count": 18,
     "metadata": {},
     "output_type": "execute_result"
    }
   ],
   "source": [
    "df.dtypes"
   ]
  },
  {
   "cell_type": "code",
   "execution_count": 19,
   "id": "90e2db3b-6c12-4ffc-b952-95efc63f5da7",
   "metadata": {},
   "outputs": [
    {
     "data": {
      "text/plain": [
       "(23548, 12)"
      ]
     },
     "execution_count": 19,
     "metadata": {},
     "output_type": "execute_result"
    }
   ],
   "source": [
    "df = df.drop([\"City_Code\", \"Health Indicator\"], axis=1)\n",
    "df.shape"
   ]
  },
  {
   "cell_type": "code",
   "execution_count": 20,
   "id": "3732f162-9907-490a-a8bb-265fed5c35df",
   "metadata": {},
   "outputs": [
    {
     "data": {
      "text/html": [
       "<div>\n",
       "<style scoped>\n",
       "    .dataframe tbody tr th:only-of-type {\n",
       "        vertical-align: middle;\n",
       "    }\n",
       "\n",
       "    .dataframe tbody tr th {\n",
       "        vertical-align: top;\n",
       "    }\n",
       "\n",
       "    .dataframe thead th {\n",
       "        text-align: right;\n",
       "    }\n",
       "</style>\n",
       "<table border=\"1\" class=\"dataframe\">\n",
       "  <thead>\n",
       "    <tr style=\"text-align: right;\">\n",
       "      <th></th>\n",
       "      <th>Accomodation_Type</th>\n",
       "      <th>Reco_Insurance_Type</th>\n",
       "      <th>Upper_Age</th>\n",
       "      <th>Lower_Age</th>\n",
       "      <th>Is_Spouse</th>\n",
       "      <th>Holding_Policy_Duration</th>\n",
       "      <th>Holding_Policy_Type</th>\n",
       "      <th>Reco_Policy_Cat</th>\n",
       "      <th>Reco_Policy_Premium</th>\n",
       "      <th>Response</th>\n",
       "      <th>City_Code_Short</th>\n",
       "      <th>Health_Indicator</th>\n",
       "    </tr>\n",
       "  </thead>\n",
       "  <tbody>\n",
       "    <tr>\n",
       "      <th>0</th>\n",
       "      <td>1</td>\n",
       "      <td>0</td>\n",
       "      <td>36</td>\n",
       "      <td>36</td>\n",
       "      <td>0</td>\n",
       "      <td>14.272059</td>\n",
       "      <td>3.0</td>\n",
       "      <td>22</td>\n",
       "      <td>11628.0</td>\n",
       "      <td>0</td>\n",
       "      <td>3</td>\n",
       "      <td>1.0</td>\n",
       "    </tr>\n",
       "    <tr>\n",
       "      <th>3</th>\n",
       "      <td>0</td>\n",
       "      <td>1</td>\n",
       "      <td>52</td>\n",
       "      <td>48</td>\n",
       "      <td>0</td>\n",
       "      <td>14.256802</td>\n",
       "      <td>3.0</td>\n",
       "      <td>19</td>\n",
       "      <td>17780.0</td>\n",
       "      <td>0</td>\n",
       "      <td>24</td>\n",
       "      <td>1.0</td>\n",
       "    </tr>\n",
       "    <tr>\n",
       "      <th>4</th>\n",
       "      <td>1</td>\n",
       "      <td>0</td>\n",
       "      <td>44</td>\n",
       "      <td>44</td>\n",
       "      <td>0</td>\n",
       "      <td>3.000000</td>\n",
       "      <td>1.0</td>\n",
       "      <td>16</td>\n",
       "      <td>10404.0</td>\n",
       "      <td>0</td>\n",
       "      <td>8</td>\n",
       "      <td>2.0</td>\n",
       "    </tr>\n",
       "    <tr>\n",
       "      <th>5</th>\n",
       "      <td>1</td>\n",
       "      <td>0</td>\n",
       "      <td>52</td>\n",
       "      <td>52</td>\n",
       "      <td>0</td>\n",
       "      <td>5.000000</td>\n",
       "      <td>1.0</td>\n",
       "      <td>22</td>\n",
       "      <td>15264.0</td>\n",
       "      <td>1</td>\n",
       "      <td>9</td>\n",
       "      <td>2.0</td>\n",
       "    </tr>\n",
       "    <tr>\n",
       "      <th>7</th>\n",
       "      <td>0</td>\n",
       "      <td>1</td>\n",
       "      <td>75</td>\n",
       "      <td>73</td>\n",
       "      <td>1</td>\n",
       "      <td>9.000000</td>\n",
       "      <td>4.0</td>\n",
       "      <td>17</td>\n",
       "      <td>29344.0</td>\n",
       "      <td>1</td>\n",
       "      <td>1</td>\n",
       "      <td>4.0</td>\n",
       "    </tr>\n",
       "    <tr>\n",
       "      <th>8</th>\n",
       "      <td>0</td>\n",
       "      <td>1</td>\n",
       "      <td>52</td>\n",
       "      <td>43</td>\n",
       "      <td>0</td>\n",
       "      <td>14.000000</td>\n",
       "      <td>3.0</td>\n",
       "      <td>1</td>\n",
       "      <td>27283.2</td>\n",
       "      <td>0</td>\n",
       "      <td>15</td>\n",
       "      <td>1.0</td>\n",
       "    </tr>\n",
       "    <tr>\n",
       "      <th>11</th>\n",
       "      <td>0</td>\n",
       "      <td>1</td>\n",
       "      <td>59</td>\n",
       "      <td>47</td>\n",
       "      <td>1</td>\n",
       "      <td>3.000000</td>\n",
       "      <td>3.0</td>\n",
       "      <td>13</td>\n",
       "      <td>25043.2</td>\n",
       "      <td>0</td>\n",
       "      <td>27</td>\n",
       "      <td>3.0</td>\n",
       "    </tr>\n",
       "    <tr>\n",
       "      <th>14</th>\n",
       "      <td>1</td>\n",
       "      <td>0</td>\n",
       "      <td>27</td>\n",
       "      <td>27</td>\n",
       "      <td>0</td>\n",
       "      <td>2.000000</td>\n",
       "      <td>3.0</td>\n",
       "      <td>9</td>\n",
       "      <td>9440.0</td>\n",
       "      <td>0</td>\n",
       "      <td>20</td>\n",
       "      <td>3.0</td>\n",
       "    </tr>\n",
       "    <tr>\n",
       "      <th>16</th>\n",
       "      <td>0</td>\n",
       "      <td>0</td>\n",
       "      <td>34</td>\n",
       "      <td>34</td>\n",
       "      <td>0</td>\n",
       "      <td>11.000000</td>\n",
       "      <td>1.0</td>\n",
       "      <td>20</td>\n",
       "      <td>6660.0</td>\n",
       "      <td>0</td>\n",
       "      <td>3</td>\n",
       "      <td>1.0</td>\n",
       "    </tr>\n",
       "    <tr>\n",
       "      <th>18</th>\n",
       "      <td>0</td>\n",
       "      <td>0</td>\n",
       "      <td>55</td>\n",
       "      <td>55</td>\n",
       "      <td>0</td>\n",
       "      <td>1.000000</td>\n",
       "      <td>3.0</td>\n",
       "      <td>21</td>\n",
       "      <td>12580.0</td>\n",
       "      <td>0</td>\n",
       "      <td>1</td>\n",
       "      <td>2.0</td>\n",
       "    </tr>\n",
       "  </tbody>\n",
       "</table>\n",
       "</div>"
      ],
      "text/plain": [
       "    Accomodation_Type  Reco_Insurance_Type  Upper_Age  Lower_Age  Is_Spouse  \\\n",
       "0                   1                    0         36         36          0   \n",
       "3                   0                    1         52         48          0   \n",
       "4                   1                    0         44         44          0   \n",
       "5                   1                    0         52         52          0   \n",
       "7                   0                    1         75         73          1   \n",
       "8                   0                    1         52         43          0   \n",
       "11                  0                    1         59         47          1   \n",
       "14                  1                    0         27         27          0   \n",
       "16                  0                    0         34         34          0   \n",
       "18                  0                    0         55         55          0   \n",
       "\n",
       "    Holding_Policy_Duration  Holding_Policy_Type  Reco_Policy_Cat  \\\n",
       "0                 14.272059                  3.0               22   \n",
       "3                 14.256802                  3.0               19   \n",
       "4                  3.000000                  1.0               16   \n",
       "5                  5.000000                  1.0               22   \n",
       "7                  9.000000                  4.0               17   \n",
       "8                 14.000000                  3.0                1   \n",
       "11                 3.000000                  3.0               13   \n",
       "14                 2.000000                  3.0                9   \n",
       "16                11.000000                  1.0               20   \n",
       "18                 1.000000                  3.0               21   \n",
       "\n",
       "    Reco_Policy_Premium  Response  City_Code_Short  Health_Indicator  \n",
       "0               11628.0         0                3               1.0  \n",
       "3               17780.0         0               24               1.0  \n",
       "4               10404.0         0                8               2.0  \n",
       "5               15264.0         1                9               2.0  \n",
       "7               29344.0         1                1               4.0  \n",
       "8               27283.2         0               15               1.0  \n",
       "11              25043.2         0               27               3.0  \n",
       "14               9440.0         0               20               3.0  \n",
       "16               6660.0         0                3               1.0  \n",
       "18              12580.0         0                1               2.0  "
      ]
     },
     "execution_count": 20,
     "metadata": {},
     "output_type": "execute_result"
    }
   ],
   "source": [
    "df.head(10)"
   ]
  },
  {
   "cell_type": "markdown",
   "id": "47a570f3-cbc9-4f97-9272-bd5f980814aa",
   "metadata": {},
   "source": [
    "# Machine Learning"
   ]
  },
  {
   "cell_type": "code",
   "execution_count": 21,
   "id": "38d92939-2336-42cb-913f-03dbf2bbe682",
   "metadata": {},
   "outputs": [],
   "source": [
    "# Importing packages\n",
    "from sklearn.model_selection import train_test_split\n",
    "from sklearn.linear_model import LogisticRegression\n",
    "from sklearn.svm import SVC\n",
    "from sklearn.ensemble import RandomForestClassifier\n",
    "from sklearn.neighbors import KNeighborsClassifier\n",
    "from sklearn.naive_bayes import GaussianNB\n",
    "from sklearn.tree import DecisionTreeClassifier"
   ]
  },
  {
   "cell_type": "code",
   "execution_count": 22,
   "id": "fa012b13-1cd0-4525-b23e-d35b06c11990",
   "metadata": {},
   "outputs": [
    {
     "name": "stdout",
     "output_type": "stream",
     "text": [
      "(17661, 11)\n",
      "(5887, 11)\n",
      "(17661,)\n",
      "(5887,)\n"
     ]
    }
   ],
   "source": [
    "X = df.drop([\"Response\"], axis =1)\n",
    "y = df.Response\n",
    "\n",
    "X_train, X_test, y_train, y_test = train_test_split(X, y, test_size = 0.25, random_state = 59)\n",
    "\n",
    "print(X_train.shape)\n",
    "print(X_test.shape)\n",
    "print(y_train.shape)\n",
    "print(y_test.shape)"
   ]
  },
  {
   "cell_type": "markdown",
   "id": "214cadd6-d23b-45f9-a15b-a4f754d28de4",
   "metadata": {},
   "source": [
    "Logistic Regression"
   ]
  },
  {
   "cell_type": "code",
   "execution_count": 23,
   "id": "40f0d974-c980-4495-a73a-122380b6c908",
   "metadata": {},
   "outputs": [
    {
     "data": {
      "text/plain": [
       "0.7533548496687617"
      ]
     },
     "execution_count": 23,
     "metadata": {},
     "output_type": "execute_result"
    }
   ],
   "source": [
    "lr = LogisticRegression()\n",
    "lr.fit(X_train, y_train)\n",
    "lr.score(X_test, y_test)"
   ]
  },
  {
   "cell_type": "markdown",
   "id": "0c4dcb52-1af1-4a42-92a5-623a52f379c5",
   "metadata": {},
   "source": [
    "Support Vector Machines"
   ]
  },
  {
   "cell_type": "code",
   "execution_count": 24,
   "id": "2cfe928f-fdec-4b29-992b-4f904e9a0e8e",
   "metadata": {},
   "outputs": [
    {
     "data": {
      "text/plain": [
       "0.7533548496687617"
      ]
     },
     "execution_count": 24,
     "metadata": {},
     "output_type": "execute_result"
    }
   ],
   "source": [
    "svc = SVC()\n",
    "svc.fit(X_train, y_train)\n",
    "svc.score(X_test, y_test)"
   ]
  },
  {
   "cell_type": "markdown",
   "id": "3fd14dbf-1aa7-472f-ba6d-f2733db5a716",
   "metadata": {},
   "source": [
    "Naive Bayes"
   ]
  },
  {
   "cell_type": "code",
   "execution_count": 25,
   "id": "04321a78-405f-46ea-bb98-437ba9ff6ba0",
   "metadata": {},
   "outputs": [
    {
     "data": {
      "text/plain": [
       "0.7533548496687617"
      ]
     },
     "execution_count": 25,
     "metadata": {},
     "output_type": "execute_result"
    }
   ],
   "source": [
    "gnb = GaussianNB()\n",
    "gnb.fit(X_train, y_train)\n",
    "gnb.score(X_test, y_test)"
   ]
  },
  {
   "cell_type": "markdown",
   "id": "2fcbde3f-8ff4-4547-bbb9-0f717132a322",
   "metadata": {},
   "source": [
    "K Nearest Neighbors\n",
    "\n",
    "Begin with graph to find best k - code from [here](https://gist.github.com/64lines/c0cd488725ae3c4ec157b90339acdb18)"
   ]
  },
  {
   "cell_type": "code",
   "execution_count": 26,
   "id": "acae2a9f-ce52-417a-ad78-60e1281a6a03",
   "metadata": {},
   "outputs": [
    {
     "data": {
      "image/png": "[encoded data removed]",
      "text/plain": [
       "<Figure size 432x288 with 1 Axes>"
      ]
     },
     "metadata": {
      "needs_background": "light"
     },
     "output_type": "display_data"
    }
   ],
   "source": [
    "neighbors = np.arange(1, 23)\n",
    "train_accuracy = np.empty(len(neighbors))\n",
    "test_accuracy = np.empty(len(neighbors))\n",
    "\n",
    "# Loop over different values of k\n",
    "for i, k in enumerate(neighbors):\n",
    "    # Setup a k-NN Classifier with k neighbors: knn\n",
    "    knn = KNeighborsClassifier(n_neighbors=k)\n",
    "\n",
    "    # Fit the classifier to the training data\n",
    "    knn.fit(X_train, y_train)\n",
    "    \n",
    "    #Compute accuracy on the training set\n",
    "    train_accuracy[i] = knn.score(X_train, y_train)\n",
    "\n",
    "    #Compute accuracy on the testing set\n",
    "    test_accuracy[i] = knn.score(X_test, y_test)\n",
    "\n",
    "# Generate plot\n",
    "plt.title('k-NN: Varying Number of Neighbors')\n",
    "plt.plot(neighbors, test_accuracy, label = 'Testing Accuracy')\n",
    "plt.plot(neighbors, train_accuracy, label = 'Training Accuracy')\n",
    "plt.legend()\n",
    "plt.xlabel('Number of Neighbors')\n",
    "plt.ylabel('Accuracy')\n",
    "plt.show()"
   ]
  },
  {
   "cell_type": "code",
   "execution_count": 27,
   "id": "bfc98f42-4529-48d6-8408-1a3d8882019e",
   "metadata": {},
   "outputs": [
    {
     "data": {
      "text/plain": [
       "0.751486325802616"
      ]
     },
     "execution_count": 27,
     "metadata": {},
     "output_type": "execute_result"
    }
   ],
   "source": [
    "knn = KNeighborsClassifier(n_neighbors=23)\n",
    "knn.fit(X_train, y_train)\n",
    "knn.score(X_test, y_test)"
   ]
  },
  {
   "cell_type": "markdown",
   "id": "c2c45208-8567-4647-8fbd-c8d4d47bd614",
   "metadata": {},
   "source": [
    "Decision Tree Classifier"
   ]
  },
  {
   "cell_type": "code",
   "execution_count": 28,
   "id": "e3752148-1c06-47e3-9eba-c21ccb10addb",
   "metadata": {},
   "outputs": [
    {
     "data": {
      "text/plain": [
       "0.6663835569899779"
      ]
     },
     "execution_count": 28,
     "metadata": {},
     "output_type": "execute_result"
    }
   ],
   "source": [
    "dt = DecisionTreeClassifier()\n",
    "dt.fit(X_train, y_train)\n",
    "dt.score(X_test, y_test)"
   ]
  },
  {
   "cell_type": "markdown",
   "id": "03d04838-ea70-4e3b-8000-9a4b024c4728",
   "metadata": {},
   "source": [
    "Random Forest"
   ]
  },
  {
   "cell_type": "code",
   "execution_count": 29,
   "id": "bf90b834-ee6a-4dac-bfb1-48a876ad4d0a",
   "metadata": {},
   "outputs": [
    {
     "data": {
      "text/plain": [
       "0.744691693562086"
      ]
     },
     "execution_count": 29,
     "metadata": {},
     "output_type": "execute_result"
    }
   ],
   "source": [
    "rf = RandomForestClassifier(max_depth=50)\n",
    "rf.fit(X_train, y_train)\n",
    "rf.score(X_test, y_test)"
   ]
  },
  {
   "cell_type": "markdown",
   "id": "b55fae36-615b-4ab7-885f-9ea50dc8167d",
   "metadata": {},
   "source": [
    "k-NN has the best accuracy."
   ]
  }
 ],
 "metadata": {
  "kernelspec": {
   "display_name": "Python 3 (ipykernel)",
   "language": "python",
   "name": "python3"
  },
  "language_info": {
   "codemirror_mode": {
    "name": "ipython",
    "version": 3
   },
   "file_extension": ".py",
   "mimetype": "text/x-python",
   "name": "python",
   "nbconvert_exporter": "python",
   "pygments_lexer": "ipython3",
   "version": "3.9.12"
  }
 },
 "nbformat": 4,
 "nbformat_minor": 5
}
